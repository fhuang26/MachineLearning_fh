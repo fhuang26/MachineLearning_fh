{
 "cells": [
  {
   "cell_type": "markdown",
   "metadata": {},
   "source": [
    "## Load data"
   ]
  },
  {
   "cell_type": "code",
   "execution_count": 1,
   "metadata": {
    "collapsed": false
   },
   "outputs": [
    {
     "name": "stdout",
     "output_type": "stream",
     "text": [
      "./t10k-images-idx3-ubyte.gz\n"
     ]
    }
   ],
   "source": [
    "import numpy as np\n",
    "import tensorflow as tf\n",
    "from datetime import datetime\n",
    "directory='.'\n",
    "train_data_filename = directory+'/train-images-idx3-ubyte.gz'\n",
    "train_labels_filename = directory+'/train-labels-idx1-ubyte.gz'\n",
    "test_data_filename = directory+'/t10k-images-idx3-ubyte.gz'\n",
    "test_labels_filename =directory+'/t10k-labels-idx1-ubyte.gz'\n",
    "print test_data_filename"
   ]
  },
  {
   "cell_type": "markdown",
   "metadata": {},
   "source": [
    "## Inspect data, show the first data point f"
   ]
  },
  {
   "cell_type": "code",
   "execution_count": 2,
   "metadata": {
    "collapsed": false
   },
   "outputs": [
    {
     "name": "stdout",
     "output_type": "stream",
     "text": [
      "magic number 2051\n",
      "image count 10000\n",
      "rows 28\n",
      "columns 28\n",
      "image is:\n",
      "[  0   0   0   0   0   0   0   0   0   0   0   0   0   0   0   0   0   0\n",
      "   0   0   0   0   0   0   0   0   0   0   0   0   0   0   0   0   0   0\n",
      "   0   0   0   0   0   0   0   0   0   0   0   0   0   0   0   0   0   0\n",
      "   0   0   0   0   0   0   0   0   0   0   0   0   0   0   0   0   0   0\n",
      "   0   0   0   0   0   0   0   0   0   0   0   0   0   0   0   0   0   0\n",
      "   0   0   0   0   0   0   0   0   0   0   0   0   0   0   0   0   0   0\n",
      "   0   0   0   0   0   0   0   0   0   0   0   0   0   0   0   0   0   0\n",
      "   0   0   0   0   0   0   0   0   0   0   0   0   0   0   0   0   0   0\n",
      "   0   0   0   0   0   0   0   0   0   0   0   0   0   0   0   0   0   0\n",
      "   0   0   0   0   0   0   0   0   0   0   0   0   0   0   0   0   0   0\n",
      "   0   0   0   0   0   0   0   0   0   0   0   0   0   0   0   0   0   0\n",
      "   0   0   0   0  84 185 159 151  60  36   0   0   0   0   0   0   0   0\n",
      "   0   0   0   0   0   0   0   0   0   0   0   0   0   0 222 254 254 254\n",
      " 254 241 198 198 198 198 198 198 198 198 170  52   0   0   0   0   0   0\n",
      "   0   0   0   0   0   0  67 114  72 114 163 227 254 225 254 254 254 250\n",
      " 229 254 254 140   0   0   0   0   0   0   0   0   0   0   0   0   0   0\n",
      "   0   0   0  17  66  14  67  67  67  59  21 236 254 106   0   0   0   0\n",
      "   0   0   0   0   0   0   0   0   0   0   0   0   0   0   0   0   0   0\n",
      "   0   0  83 253 209  18   0   0   0   0   0   0   0   0   0   0   0   0\n",
      "   0   0   0   0   0   0   0   0   0   0   0  22 233 255  83   0   0   0\n",
      "   0   0   0   0   0   0   0   0   0   0   0   0   0   0   0   0   0   0\n",
      "   0   0   0 129 254 238  44   0   0   0   0   0   0   0   0   0   0   0\n",
      "   0   0   0   0   0   0   0   0   0   0   0   0  59 249 254  62   0   0\n",
      "   0   0   0   0   0   0   0   0   0   0   0   0   0   0   0   0   0   0\n",
      "   0   0   0   0 133 254 187   5   0   0   0   0   0   0   0   0   0   0\n",
      "   0   0   0   0   0   0   0   0   0   0   0   0   0   9 205 248  58   0\n",
      "   0   0   0   0   0   0   0   0   0   0   0   0   0   0   0   0   0   0\n",
      "   0   0   0   0   0 126 254 182   0   0   0   0   0   0   0   0   0   0\n",
      "   0   0   0   0   0   0   0   0   0   0   0   0   0   0  75 251 240  57\n",
      "   0   0   0   0   0   0   0   0   0   0   0   0   0   0   0   0   0   0\n",
      "   0   0   0   0   0  19 221 254 166   0   0   0   0   0   0   0   0   0\n",
      "   0   0   0   0   0   0   0   0   0   0   0   0   0   0   3 203 254 219\n",
      "  35   0   0   0   0   0   0   0   0   0   0   0   0   0   0   0   0   0\n",
      "   0   0   0   0   0   0  38 254 254  77   0   0   0   0   0   0   0   0\n",
      "   0   0   0   0   0   0   0   0   0   0   0   0   0   0   0  31 224 254\n",
      " 115   1   0   0   0   0   0   0   0   0   0   0   0   0   0   0   0   0\n",
      "   0   0   0   0   0   0   0 133 254 254  52   0   0   0   0   0   0   0\n",
      "   0   0   0   0   0   0   0   0   0   0   0   0   0   0   0   0  61 242\n",
      " 254 254  52   0   0   0   0   0   0   0   0   0   0   0   0   0   0   0\n",
      "   0   0   0   0   0   0   0   0 121 254 254 219  40   0   0   0   0   0\n",
      "   0   0   0   0   0   0   0   0   0   0   0   0   0   0   0   0   0   0\n",
      " 121 254 207  18   0   0   0   0   0   0   0   0   0   0   0   0   0   0\n",
      "   0   0   0   0   0   0   0   0   0   0   0   0   0   0   0   0   0   0\n",
      "   0   0   0   0   0   0   0   0   0   0]\n",
      "The first 10 pixels of image [0 0 0 0 0 0 0 0 0 0]\n"
     ]
    }
   ],
   "source": [
    "%matplotlib inline\n",
    "import matplotlib.pyplot as plt\n",
    "import gzip, binascii, struct, numpy\n",
    "\n",
    "with gzip.open(test_data_filename) as f:\n",
    "  for field in ['magic number', 'image count', 'rows', 'columns']:\n",
    "    line=f.read(4)  #read the first 4 elements in current row\n",
    "    item0=struct.unpack('>i', line)[0]  #unpack binary data and interpret as integer\n",
    "    print field, item0\n",
    "    \n",
    "  buf = f.read(28 * 28)  #read 28x28=784 rows\n",
    "  #image is a one-dimensional array of 28x28=784 rows elements\n",
    "  image = numpy.frombuffer(buf, dtype=numpy.uint8) #data type is integer\n",
    "\n",
    "  print \"image is:\"\n",
    "  print image\n",
    "  print 'The first 10 pixels of image', image[:10]\n"
   ]
  },
  {
   "cell_type": "markdown",
   "metadata": {},
   "source": [
    "## Plot out the data"
   ]
  },
  {
   "cell_type": "code",
   "execution_count": 3,
   "metadata": {
    "collapsed": false
   },
   "outputs": [
    {
     "data": {
      "image/png": "[encoded data removed]",
      "text/plain": [
       "<matplotlib.figure.Figure at 0x7fb28822bf90>"
      ]
     },
     "metadata": {},
     "output_type": "display_data"
    }
   ],
   "source": [
    "# We'll show the image and its pixel value histogram side-by-side.\n",
    "plot1= plt.subplot(1, 3, 1) #the plot has 1 row, 2 columns\n",
    "plot2= plt.subplot(1, 3, 2)\n",
    "plot3= plt.subplot(1, 3, 3)\n",
    "\n",
    "plot1.imshow(image.reshape(28, 28));  #reshape the image to 28x28 pixels\n",
    "plot2.imshow(image.reshape(28, 28), cmap=plt.cm.Greys);  #with grey scale\n",
    "plot3.hist(image, bins=20, range=[0,255]);"
   ]
  },
  {
   "cell_type": "markdown",
   "metadata": {},
   "source": [
    "## Show the data label"
   ]
  },
  {
   "cell_type": "code",
   "execution_count": 4,
   "metadata": {
    "collapsed": false
   },
   "outputs": [
    {
     "name": "stdout",
     "output_type": "stream",
     "text": [
      "magic number 2049\n",
      "label count 10000\n",
      "First label: 7\n"
     ]
    }
   ],
   "source": [
    "with gzip.open(test_labels_filename) as f:\n",
    "  for field in ['magic number', 'label count']:\n",
    "    line=f.read(4)  #read the first 4 elements in current row\n",
    "    item0=struct.unpack('>i', line)[0]\n",
    "    print field, item0\n",
    "\n",
    "  line= f.read(1) #red the next line\n",
    "  print 'First label:', struct.unpack('B',line)[0]  #unpacked binary data, and interpret as 'B'=unsigned char"
   ]
  },
  {
   "cell_type": "markdown",
   "metadata": {},
   "source": [
    "## Extract data, as 4-d tensor"
   ]
  },
  {
   "cell_type": "code",
   "execution_count": 5,
   "metadata": {
    "collapsed": false
   },
   "outputs": [
    {
     "name": "stdout",
     "output_type": "stream",
     "text": [
      "Extracting ./train-images-idx3-ubyte.gz\n",
      "Extracting ./t10k-images-idx3-ubyte.gz\n"
     ]
    }
   ],
   "source": [
    "IMAGE_SIZE = 28\n",
    "PIXEL_DEPTH = 255\n",
    "\n",
    "\"\"\"\n",
    "  Extract the images into a 4D tensor [image index, y, x, channels].\n",
    "  For greyscale MNIST, the number of channels is always 1.\n",
    "  Values are rescaled from [0, 255] down to [-0.5, 0.5].\n",
    "==================================================================\n",
    "\"\"\"\n",
    "def extract_data(filename, num_images):\n",
    "  print 'Extracting', filename\n",
    "  with gzip.open(filename) as bytestream:\n",
    "    # Skip the magic number and dimensions; we know these values.\n",
    "    bytestream.read(16)\n",
    "    \n",
    "    buf = bytestream.read(IMAGE_SIZE * IMAGE_SIZE * num_images)\n",
    "    data = numpy.frombuffer(buf, dtype=numpy.uint8).astype(numpy.float32)\n",
    "    data = (data - (PIXEL_DEPTH / 2.0)) / PIXEL_DEPTH\n",
    "    data = data.reshape(num_images, IMAGE_SIZE, IMAGE_SIZE, 1)\n",
    "    return data\n",
    "\n",
    "train_data = extract_data(train_data_filename, 60000)\n",
    "test_data = extract_data(test_data_filename, 10000)"
   ]
  },
  {
   "cell_type": "markdown",
   "metadata": {},
   "source": [
    "## Visualize the data"
   ]
  },
  {
   "cell_type": "code",
   "execution_count": 6,
   "metadata": {
    "collapsed": false
   },
   "outputs": [
    {
     "name": "stdout",
     "output_type": "stream",
     "text": [
      "Training data shape (60000, 28, 28, 1)\n"
     ]
    },
    {
     "data": {
      "image/png": "[encoded data removed]",
      "text/plain": [
       "<matplotlib.figure.Figure at 0x7fb2839911d0>"
      ]
     },
     "metadata": {},
     "output_type": "display_data"
    }
   ],
   "source": [
    "print 'Training data shape', train_data.shape\n",
    "plot1= plt.subplot(1, 2, 1) #the plot has 1 row, 2 columns\n",
    "plot2= plt.subplot(1, 2, 2)\n",
    "\n",
    "image1=train_data[0].reshape(28, 28)\n",
    "image2=train_data[1].reshape(28, 28)\n",
    "plot1.imshow(image1, cmap=plt.cm.Greys);\n",
    "plot2.imshow(image2, cmap=plt.cm.Greys);"
   ]
  },
  {
   "cell_type": "code",
   "execution_count": 7,
   "metadata": {
    "collapsed": false
   },
   "outputs": [
    {
     "name": "stdout",
     "output_type": "stream",
     "text": [
      "Extracting ./train-labels-idx1-ubyte.gz\n",
      "Extracting ./t10k-labels-idx1-ubyte.gz\n",
      "Training labels shape (60000, 10)\n",
      "First label vector [ 0.  0.  0.  0.  0.  1.  0.  0.  0.  0.]\n",
      "Second label vector [ 1.  0.  0.  0.  0.  0.  0.  0.  0.  0.]\n"
     ]
    }
   ],
   "source": [
    "NUM_LABELS = 10\n",
    "\n",
    "def extract_labels(filename, num_images):\n",
    "  \"\"\"Extract the labels into a 1-hot matrix [image index, label index].\"\"\"\n",
    "  print 'Extracting', filename\n",
    "  with gzip.open(filename) as bytestream:\n",
    "    # Skip the magic number and count; we know these values.\n",
    "    bytestream.read(8)\n",
    "    \n",
    "    buf = bytestream.read(1 * num_images)\n",
    "    labels = numpy.frombuffer(buf, dtype=numpy.uint8)\n",
    "  # Convert to dense 1-hot representation.\n",
    "  return (numpy.arange(NUM_LABELS) == labels[:, None]).astype(numpy.float32)\n",
    "\n",
    "train_labels = extract_labels(train_labels_filename, 60000)\n",
    "test_labels = extract_labels(test_labels_filename, 10000)\n",
    "print 'Training labels shape', train_labels.shape\n",
    "print 'First label vector', train_labels[0]\n",
    "print 'Second label vector', train_labels[1]"
   ]
  },
  {
   "cell_type": "markdown",
   "metadata": {},
   "source": [
    "## Split the training data into 2 sets: training , validation"
   ]
  },
  {
   "cell_type": "code",
   "execution_count": 8,
   "metadata": {
    "collapsed": false
   },
   "outputs": [
    {
     "name": "stdout",
     "output_type": "stream",
     "text": [
      "Validation shape (5000, 28, 28, 1)\n",
      "Train size 55000\n"
     ]
    }
   ],
   "source": [
    "VALIDATION_SIZE = 5000\n",
    "# VALIDATION_SIZE = 1000\n",
    "\n",
    "validation_data = train_data[:VALIDATION_SIZE, :, :, :]\n",
    "validation_labels = train_labels[:VALIDATION_SIZE]\n",
    "train_data = train_data[VALIDATION_SIZE:, :, :, :]\n",
    "train_labels = train_labels[VALIDATION_SIZE:]\n",
    "\n",
    "train_size = train_labels.shape[0]\n",
    "\n",
    "print 'Validation shape', validation_data.shape\n",
    "print 'Train size', train_size"
   ]
  },
  {
   "cell_type": "code",
   "execution_count": 9,
   "metadata": {
    "collapsed": true
   },
   "outputs": [],
   "source": [
    "import tensorflow as tf\n",
    "\n",
    "BATCH_SIZE = 60 #Each batch is the number of data we feed into NN each time\n",
    "# We have only one channel in our grayscale images.\n",
    "NUM_CHANNELS = 1\n",
    "# The random seed that defines initialization.\n",
    "SEED = 41\n",
    "\n",
    "# This is where training samples and labels are fed to the graph.\n",
    "# These placeholder nodes will be fed a batch of training data at each\n",
    "# training step, which we'll write once we define the graph structure.\n",
    "train_data_node = tf.placeholder(tf.float32, shape=(BATCH_SIZE, IMAGE_SIZE, IMAGE_SIZE, NUM_CHANNELS))\n",
    "train_labels_node = tf.placeholder(tf.float32,shape=(BATCH_SIZE, NUM_LABELS))\n",
    "\n",
    "# For the validation and test data, we'll just hold the entire dataset in one constant node.\n",
    "validation_data_node = tf.constant(validation_data)\n",
    "test_data_node = tf.constant(test_data)\n"
   ]
  },
  {
   "cell_type": "markdown",
   "metadata": {},
   "source": [
    "## Initialize weights"
   ]
  },
  {
   "cell_type": "code",
   "execution_count": 10,
   "metadata": {
    "collapsed": false
   },
   "outputs": [
    {
     "name": "stdout",
     "output_type": "stream",
     "text": [
      "Done\n"
     ]
    }
   ],
   "source": [
    "# The variables below hold all the trainable weights. For each, the\n",
    "# parameter defines how the variables will be initialized.\n",
    "conv1_weights = tf.Variable(tf.truncated_normal([5, 5, NUM_CHANNELS, 32],  # 9x9 filter, depth 32.\n",
    "                      stddev=0.1,\n",
    "                      seed=SEED))\n",
    "conv1_biases = tf.Variable(tf.zeros([32]))\n",
    "\n",
    "conv2_weights = tf.Variable(tf.truncated_normal([6, 6, 32, 64],stddev=0.1,seed=SEED))\n",
    "conv2_biases = tf.Variable(tf.constant(0.1, shape=[64]))\n",
    "\n",
    "# conv3_weights = tf.Variable(tf.truncated_normal([5, 5, 64, 64],stddev=0.1,seed=SEED))\n",
    "# conv3_biases = tf.Variable(tf.constant(0.1, shape=[64]))\n",
    "\n",
    "# fully connected, depth 512.\n",
    "fc1_weights = tf.Variable(tf.truncated_normal([IMAGE_SIZE / 4 * IMAGE_SIZE / 4 * 64, 512],stddev=0.1,seed=SEED))\n",
    "fc1_biases = tf.Variable(tf.constant(0.1, shape=[512]))\n",
    "\n",
    "fc2_weights = tf.Variable(tf.truncated_normal([512, NUM_LABELS],stddev=0.1, seed=SEED))\n",
    "fc2_biases = tf.Variable(tf.constant(0.1, shape=[NUM_LABELS]))\n",
    "\n",
    "print 'Done'"
   ]
  },
  {
   "cell_type": "code",
   "execution_count": null,
   "metadata": {
    "collapsed": true
   },
   "outputs": [],
   "source": []
  },
  {
   "cell_type": "code",
   "execution_count": 11,
   "metadata": {
    "collapsed": false
   },
   "outputs": [
    {
     "name": "stdout",
     "output_type": "stream",
     "text": [
      "Done\n"
     ]
    }
   ],
   "source": [
    "def model(data, train=False):\n",
    "  \"\"\"The Model definition.\"\"\"\n",
    "  # 2D convolution, with 'SAME' padding (i.e. the output feature map has\n",
    "  # the same size as the input). Note that {strides} is a 4D array whose\n",
    "  # shape matches the data layout: [image index, y, x, depth].\n",
    "    # data: 1, 28, 28, 1\n",
    "    # wt : 5, 5, 1, 32\n",
    "  # hidden layer 1.\n",
    "  conv = tf.nn.conv2d(data,\n",
    "                      conv1_weights,\n",
    "                      strides=[1, 1, 1, 1],\n",
    "                      padding='SAME')\n",
    "\n",
    "  # Bias and rectified linear non-linearity.\n",
    "  relu = tf.nn.relu(tf.nn.bias_add(conv, conv1_biases))\n",
    "  \n",
    "  # Max pooling. The kernel size spec ksize also follows the layout of\n",
    "  # the data. Here we have a pooling window of 2, and a stride of 2.\n",
    "  pool = tf.nn.max_pool(relu,\n",
    "                        ksize=[1, 2, 2, 1],\n",
    "                        strides=[1, 2, 2, 1],\n",
    "                        padding='SAME')\n",
    "\n",
    "  # hidden layer 2.\n",
    "  conv = tf.nn.conv2d(pool,\n",
    "                      conv2_weights,\n",
    "                      strides=[1, 1, 1, 1],\n",
    "                      padding='SAME')\n",
    "  relu = tf.nn.relu(tf.nn.bias_add(conv, conv2_biases))\n",
    "\n",
    "  pool = tf.nn.max_pool(relu,\n",
    "                        ksize=[1, 2, 2, 1],\n",
    "                        strides=[1, 2, 2, 1],\n",
    "                        padding='SAME')\n",
    "\n",
    "  # hidden layer 3.\n",
    "  #conv = tf.nn.conv2d(pool,\n",
    "  #                    conv3_weights,\n",
    "  #                    strides=[1, 1, 1, 1],\n",
    "  #                    padding='SAME')\n",
    "  #relu = tf.nn.relu(tf.nn.bias_add(conv, conv3_biases))\n",
    "  \n",
    "  #pool = tf.nn.max_pool(relu,\n",
    "  #                      ksize=[1, 2, 2, 1],\n",
    "  #                      strides=[1, 2, 2, 1],\n",
    "  #                      padding='SAME')\n",
    "    \n",
    "  # Reshape the feature map cuboid into a 2D matrix to feed it to the\n",
    "  # fully connected layers.\n",
    "  pool_shape = pool.get_shape().as_list()\n",
    "  print(pool_shape)\n",
    "  reshape = tf.reshape(\n",
    "      pool,\n",
    "      [pool_shape[0], pool_shape[1] * pool_shape[2] * pool_shape[3]])\n",
    "  \n",
    "  # Fully connected layer. Note that the '+' operation automatically\n",
    "  # broadcasts the biases.\n",
    "  hidden = tf.nn.relu(tf.matmul(reshape, fc1_weights) + fc1_biases)\n",
    "  \n",
    "  # Add a 50% dropout during training only. Dropout also scales\n",
    "  # activations such that no rescaling is needed at evaluation time.\n",
    "  if train:\n",
    "    hidden = tf.nn.dropout(hidden, 0.48, seed=SEED)\n",
    "  return tf.matmul(hidden, fc2_weights) + fc2_biases\n",
    "\n",
    "print 'Done'"
   ]
  },
  {
   "cell_type": "code",
   "execution_count": 12,
   "metadata": {
    "collapsed": false
   },
   "outputs": [
    {
     "name": "stdout",
     "output_type": "stream",
     "text": [
      "[60, 7, 7, 64]\n",
      "[5000, 7, 7, 64]\n",
      "[10000, 7, 7, 64]\n",
      "Done\n"
     ]
    }
   ],
   "source": [
    "# Training computation: logits + cross-entropy loss.\n",
    "logits = model(train_data_node, True)\n",
    "loss = tf.reduce_mean(tf.nn.softmax_cross_entropy_with_logits(\n",
    "  logits, train_labels_node))\n",
    "\n",
    "# L2 regularization for the fully connected parameters.\n",
    "regularizers = (tf.nn.l2_loss(fc1_weights) + tf.nn.l2_loss(fc1_biases) +\n",
    "                tf.nn.l2_loss(fc2_weights) + tf.nn.l2_loss(fc2_biases))\n",
    "# Add the regularization term to the loss.\n",
    "# loss += 5e-4 * regularizers\n",
    "loss += 4.9e-4 * regularizers\n",
    "\n",
    "# Optimizer: set up a variable that's incremented once per batch and\n",
    "# controls the learning rate decay.\n",
    "batch = tf.Variable(0)\n",
    "# Decay once per epoch, using an exponential schedule starting at 0.01.\n",
    "learning_rate = tf.train.exponential_decay(\n",
    "  0.0005,                # Base learning rate.\n",
    "  batch * BATCH_SIZE,  # Current index into the dataset.\n",
    "  train_size,          # Decay step.\n",
    "  0.95,                # Decay rate.\n",
    "  staircase=True)\n",
    "# Use Adam optimization.\n",
    "optimizer = tf.train.AdamOptimizer(learning_rate=learning_rate).minimize(loss,\n",
    "                                                     global_step=batch)\n",
    "\n",
    "# Predictions for the minibatch, validation set and test set.\n",
    "train_prediction = tf.nn.softmax(logits)\n",
    "# We'll compute them only once in a while by calling their {eval()} method.\n",
    "validation_prediction = tf.nn.softmax(model(validation_data_node))\n",
    "test_prediction = tf.nn.softmax(model(test_data_node))\n",
    "\n",
    "print 'Done'"
   ]
  },
  {
   "cell_type": "code",
   "execution_count": 13,
   "metadata": {
    "collapsed": false
   },
   "outputs": [],
   "source": [
    "# Create a new interactive session that we'll use in\n",
    "# subsequent code cells.\n",
    "s = tf.InteractiveSession()\n",
    "\n",
    "# Use our newly created session as the default for \n",
    "# subsequent operations.\n",
    "s.as_default()\n",
    "\n",
    "# Initialize all the variables we defined above.\n",
    "tf.global_variables_initializer().run()"
   ]
  },
  {
   "cell_type": "code",
   "execution_count": 14,
   "metadata": {
    "collapsed": false
   },
   "outputs": [
    {
     "name": "stdout",
     "output_type": "stream",
     "text": [
      "Done\n"
     ]
    }
   ],
   "source": [
    "BATCH_SIZE = 60\n",
    "\n",
    "# Grab the first BATCH_SIZE examples and labels.\n",
    "batch_data = train_data[:BATCH_SIZE, :, :, :]\n",
    "batch_labels = train_labels[:BATCH_SIZE]\n",
    "\n",
    "# This dictionary maps the batch data (as a numpy array) to the\n",
    "# node in the graph it should be fed to.\n",
    "feed_dict = {train_data_node: batch_data,\n",
    "             train_labels_node: batch_labels}\n",
    "\n",
    "# Run the graph and fetch some of the nodes.\n",
    "_, l, lr, predictions = s.run(\n",
    "  [optimizer, loss, learning_rate, train_prediction],\n",
    "  feed_dict=feed_dict)\n",
    "\n",
    "print 'Done'"
   ]
  },
  {
   "cell_type": "code",
   "execution_count": 15,
   "metadata": {
    "collapsed": false
   },
   "outputs": [
    {
     "name": "stdout",
     "output_type": "stream",
     "text": [
      "[  6.02223203e-02   1.77267008e-04   3.27722344e-04   1.43857324e-05\n",
      "   8.98178577e-01   2.81953532e-03   3.16659436e-02   5.53744430e-05\n",
      "   6.53628260e-03   2.69491170e-06]\n"
     ]
    }
   ],
   "source": [
    "print predictions[0]"
   ]
  },
  {
   "cell_type": "code",
   "execution_count": 16,
   "metadata": {
    "collapsed": false
   },
   "outputs": [
    {
     "name": "stdout",
     "output_type": "stream",
     "text": [
      "First prediction 4\n",
      "(60, 10)\n",
      "All predictions [4 4 4 0 7 4 7 0 4 8 6 7 8 7 3 5 0 7 3 3 8 3 2 0 8 7 3 9 7 3 6 2 0 5 7 7 0\n",
      " 7 0 6 6 6 3 6 7 8 5 9 6 8 4 0 8 8 5 5 3 1 3 5]\n"
     ]
    }
   ],
   "source": [
    "# The highest probability in the first entry.\n",
    "print 'First prediction', numpy.argmax(predictions[0])\n",
    "print predictions.shape\n",
    "print 'All predictions', numpy.argmax(predictions, 1)"
   ]
  },
  {
   "cell_type": "code",
   "execution_count": 17,
   "metadata": {
    "collapsed": false
   },
   "outputs": [
    {
     "name": "stdout",
     "output_type": "stream",
     "text": [
      "Batch labels [7 3 4 6 1 8 1 0 9 8 0 3 1 2 7 0 2 9 6 0 1 6 7 1 9 7 6 5 5 8 8 3 4 4 8 7 3\n",
      " 6 4 6 6 3 8 8 9 9 4 4 0 7 8 1 0 0 1 8 5 7 1 7]\n"
     ]
    }
   ],
   "source": [
    "print 'Batch labels', numpy.argmax(batch_labels, 1)"
   ]
  },
  {
   "cell_type": "code",
   "execution_count": 18,
   "metadata": {
    "collapsed": false
   },
   "outputs": [
    {
     "name": "stdout",
     "output_type": "stream",
     "text": [
      "0.116666666667\n"
     ]
    },
    {
     "data": {
      "text/plain": [
       "<matplotlib.image.AxesImage at 0x7fb2822c71d0>"
      ]
     },
     "execution_count": 18,
     "metadata": {},
     "output_type": "execute_result"
    },
    {
     "data": {
      "image/png": "[encoded data removed]",
      "text/plain": [
       "<matplotlib.figure.Figure at 0x7fb283358e90>"
      ]
     },
     "metadata": {},
     "output_type": "display_data"
    }
   ],
   "source": [
    "correct = numpy.sum(numpy.argmax(predictions, 1) == numpy.argmax(batch_labels, 1))\n",
    "total = predictions.shape[0]\n",
    "\n",
    "print float(correct) / float(total)\n",
    "\n",
    "confusions = numpy.zeros([10, 10], numpy.float32)\n",
    "bundled = zip(numpy.argmax(predictions, 1), numpy.argmax(batch_labels, 1))\n",
    "for predicted, actual in bundled:\n",
    "  confusions[predicted, actual] += 1\n",
    "\n",
    "plt.grid(False)\n",
    "plt.xticks(numpy.arange(NUM_LABELS))\n",
    "plt.yticks(numpy.arange(NUM_LABELS))\n",
    "plt.imshow(confusions, cmap=plt.cm.jet, interpolation='nearest')"
   ]
  },
  {
   "cell_type": "code",
   "execution_count": 19,
   "metadata": {
    "collapsed": false
   },
   "outputs": [
    {
     "name": "stdout",
     "output_type": "stream",
     "text": [
      "Done\n"
     ]
    }
   ],
   "source": [
    "def error_rate(predictions, labels):\n",
    "  \"\"\"Return the error rate and confusions.\"\"\"\n",
    "  correct = numpy.sum(numpy.argmax(predictions, 1) == numpy.argmax(labels, 1))\n",
    "  total = predictions.shape[0]\n",
    "\n",
    "  error = 100.0 - (100 * float(correct) / float(total))\n",
    "\n",
    "  confusions = numpy.zeros([10, 10], numpy.float32)\n",
    "  bundled = zip(numpy.argmax(predictions, 1), numpy.argmax(labels, 1))\n",
    "  for predicted, actual in bundled:\n",
    "    confusions[predicted, actual] += 1\n",
    "    \n",
    "  return error, confusions\n",
    "\n",
    "print 'Done'"
   ]
  },
  {
   "cell_type": "code",
   "execution_count": 20,
   "metadata": {
    "collapsed": false
   },
   "outputs": [
    {
     "name": "stdout",
     "output_type": "stream",
     "text": [
      "Step 0 of 916\n",
      "Mini-batch loss: 9.33840 Error: 83.33333 Learning rate: 0.00050\n",
      "Validation error: 83.9%\n",
      "Step 100 of 916\n",
      "Mini-batch loss: 2.89979 Error: 10.00000 Learning rate: 0.00050\n",
      "Validation error: 8.0%\n",
      "Step 200 of 916\n",
      "Mini-batch loss: 2.59362 Error: 10.00000 Learning rate: 0.00047\n",
      "Validation error: 4.6%\n",
      "Step 300 of 916\n",
      "Mini-batch loss: 2.17550 Error: 1.66667 Learning rate: 0.00044\n",
      "Validation error: 4.6%\n",
      "Step 400 of 916\n",
      "Mini-batch loss: 2.08187 Error: 5.00000 Learning rate: 0.00041\n",
      "Validation error: 3.2%\n",
      "Step 500 of 916\n",
      "Mini-batch loss: 1.90418 Error: 3.33333 Learning rate: 0.00038\n",
      "Validation error: 2.8%\n",
      "Step 600 of 916\n",
      "Mini-batch loss: 1.80536 Error: 5.00000 Learning rate: 0.00035\n",
      "Validation error: 2.5%\n",
      "Step 700 of 916\n",
      "Mini-batch loss: 1.79631 Error: 8.33333 Learning rate: 0.00032\n",
      "Validation error: 2.6%\n",
      "Step 800 of 916\n",
      "Mini-batch loss: 1.59623 Error: 1.66667 Learning rate: 0.00029\n",
      "Validation error: 2.0%\n",
      "Step 900 of 916\n",
      "Mini-batch loss: 1.42582 Error: 0.00000 Learning rate: 0.00026\n",
      "Validation error: 1.9%\n",
      "Step 0 of 916\n",
      "Mini-batch loss: 1.47024 Error: 1.66667 Learning rate: 0.00022\n",
      "Validation error: 2.1%\n",
      "Step 100 of 916\n",
      "Mini-batch loss: 1.34460 Error: 0.00000 Learning rate: 0.00048\n",
      "Validation error: 2.1%\n",
      "Step 200 of 916\n",
      "Mini-batch loss: 1.28696 Error: 1.66667 Learning rate: 0.00045\n",
      "Validation error: 1.7%\n",
      "Step 300 of 916\n",
      "Mini-batch loss: 1.19559 Error: 3.33333 Learning rate: 0.00042\n",
      "Validation error: 1.7%\n",
      "Step 400 of 916\n",
      "Mini-batch loss: 1.19088 Error: 3.33333 Learning rate: 0.00039\n",
      "Validation error: 1.6%\n",
      "Step 500 of 916\n",
      "Mini-batch loss: 1.07512 Error: 1.66667 Learning rate: 0.00036\n",
      "Validation error: 1.7%\n",
      "Step 600 of 916\n",
      "Mini-batch loss: 0.97947 Error: 0.00000 Learning rate: 0.00033\n",
      "Validation error: 1.6%\n",
      "Step 700 of 916\n",
      "Mini-batch loss: 1.15872 Error: 6.66667 Learning rate: 0.00030\n",
      "Validation error: 1.7%\n",
      "Step 800 of 916\n",
      "Mini-batch loss: 0.91720 Error: 3.33333 Learning rate: 0.00028\n",
      "Validation error: 1.4%\n",
      "Step 900 of 916\n",
      "Mini-batch loss: 0.79188 Error: 0.00000 Learning rate: 0.00025\n",
      "Validation error: 1.4%\n",
      "Step 0 of 916\n",
      "Mini-batch loss: 0.86446 Error: 3.33333 Learning rate: 0.00022\n",
      "Validation error: 1.5%\n",
      "Step 100 of 916\n",
      "Mini-batch loss: 0.82343 Error: 1.66667 Learning rate: 0.00045\n",
      "Validation error: 1.4%\n",
      "Step 200 of 916\n",
      "Mini-batch loss: 0.71333 Error: 0.00000 Learning rate: 0.00042\n",
      "Validation error: 1.3%\n",
      "Step 300 of 916\n",
      "Mini-batch loss: 0.65106 Error: 0.00000 Learning rate: 0.00040\n",
      "Validation error: 1.1%\n",
      "Step 400 of 916\n",
      "Mini-batch loss: 0.63832 Error: 1.66667 Learning rate: 0.00037\n",
      "Validation error: 1.2%\n",
      "Step 500 of 916\n",
      "Mini-batch loss: 0.57602 Error: 0.00000 Learning rate: 0.00034\n",
      "Validation error: 1.3%\n",
      "Step 600 of 916\n",
      "Mini-batch loss: 0.53395 Error: 0.00000 Learning rate: 0.00032\n",
      "Validation error: 1.3%\n",
      "Step 700 of 916\n",
      "Mini-batch loss: 0.64204 Error: 3.33333 Learning rate: 0.00029\n",
      "Validation error: 1.2%\n",
      "Step 800 of 916\n",
      "Mini-batch loss: 0.50991 Error: 1.66667 Learning rate: 0.00026\n",
      "Validation error: 1.4%\n",
      "Step 900 of 916\n",
      "Mini-batch loss: 0.42894 Error: 0.00000 Learning rate: 0.00023\n",
      "Validation error: 1.1%\n",
      "Step 0 of 916\n",
      "Mini-batch loss: 0.49960 Error: 1.66667 Learning rate: 0.00021\n",
      "Validation error: 1.1%\n",
      "Step 100 of 916\n",
      "Mini-batch loss: 0.46482 Error: 1.66667 Learning rate: 0.00043\n",
      "Validation error: 1.4%\n",
      "Step 200 of 916\n",
      "Mini-batch loss: 0.38768 Error: 0.00000 Learning rate: 0.00040\n",
      "Validation error: 1.1%\n",
      "Step 300 of 916\n",
      "Mini-batch loss: 0.36667 Error: 0.00000 Learning rate: 0.00038\n",
      "Validation error: 1.0%\n",
      "Step 400 of 916\n",
      "Mini-batch loss: 0.36597 Error: 1.66667 Learning rate: 0.00035\n",
      "Validation error: 1.1%\n",
      "Step 500 of 916\n",
      "Mini-batch loss: 0.34117 Error: 1.66667 Learning rate: 0.00033\n",
      "Validation error: 1.1%\n",
      "Step 600 of 916\n",
      "Mini-batch loss: 0.29102 Error: 0.00000 Learning rate: 0.00030\n",
      "Validation error: 1.1%\n",
      "Step 700 of 916\n",
      "Mini-batch loss: 0.42301 Error: 3.33333 Learning rate: 0.00027\n",
      "Validation error: 1.2%\n",
      "Step 800 of 916\n",
      "Mini-batch loss: 0.27194 Error: 1.66667 Learning rate: 0.00025\n",
      "Validation error: 1.3%\n",
      "Step 900 of 916\n",
      "Mini-batch loss: 0.23616 Error: 0.00000 Learning rate: 0.00022\n",
      "Validation error: 1.1%\n",
      "Step 0 of 916\n",
      "Mini-batch loss: 0.27433 Error: 1.66667 Learning rate: 0.00020\n",
      "Validation error: 1.1%\n",
      "Step 100 of 916\n",
      "Mini-batch loss: 0.24760 Error: 1.66667 Learning rate: 0.00041\n",
      "Validation error: 1.3%\n",
      "Step 200 of 916\n",
      "Mini-batch loss: 0.24478 Error: 0.00000 Learning rate: 0.00038\n",
      "Validation error: 1.2%\n",
      "Step 300 of 916\n",
      "Mini-batch loss: 0.20337 Error: 0.00000 Learning rate: 0.00036\n",
      "Validation error: 1.0%\n",
      "Step 400 of 916\n",
      "Mini-batch loss: 0.19506 Error: 0.00000 Learning rate: 0.00033\n",
      "Validation error: 1.0%\n",
      "Step 500 of 916\n",
      "Mini-batch loss: 0.18260 Error: 0.00000 Learning rate: 0.00031\n",
      "Validation error: 0.9%\n",
      "Step 600 of 916\n",
      "Mini-batch loss: 0.16102 Error: 0.00000 Learning rate: 0.00029\n",
      "Validation error: 1.0%\n",
      "Step 700 of 916\n",
      "Mini-batch loss: 0.19305 Error: 1.66667 Learning rate: 0.00026\n",
      "Validation error: 1.1%\n",
      "Step 800 of 916\n",
      "Mini-batch loss: 0.14937 Error: 0.00000 Learning rate: 0.00024\n",
      "Validation error: 1.0%\n",
      "Step 900 of 916\n",
      "Mini-batch loss: 0.14256 Error: 0.00000 Learning rate: 0.00021\n",
      "Validation error: 0.8%\n",
      "0:50:00.943044\n"
     ]
    }
   ],
   "source": [
    "startTime=datetime.now()\n",
    "step_list = []\n",
    "error_rates = []\n",
    "\n",
    "steps = int(train_size / BATCH_SIZE)\n",
    "k = 0\n",
    "for _ in xrange(5):\n",
    "  for step in xrange(steps):\n",
    "    # Compute the offset of the current minibatch in the data.\n",
    "    # Note that we could use better randomization across epochs.\n",
    "    offset = (step * BATCH_SIZE) % (train_size - BATCH_SIZE)\n",
    "    batch_data = train_data[offset:(offset + BATCH_SIZE), :, :, :]\n",
    "    batch_labels = train_labels[offset:(offset + BATCH_SIZE)]\n",
    "    # This dictionary maps the batch data (as a numpy array) to the\n",
    "    # node in the graph it should be fed to.\n",
    "    feed_dict = {train_data_node: batch_data,\n",
    "                 train_labels_node: batch_labels}\n",
    "    # Run the graph and fetch some of the nodes.\n",
    "    _, l, lr, predictions = s.run(\n",
    "      [optimizer, loss, learning_rate, train_prediction],\n",
    "      feed_dict=feed_dict)\n",
    "  \n",
    "    # Print out the loss periodically.\n",
    "    if step % 100 == 0:\n",
    "      error, _ = error_rate(predictions, batch_labels)\n",
    "      print 'Step %d of %d' % (step, steps)\n",
    "      print 'Mini-batch loss: %.5f Error: %.5f Learning rate: %.5f' % (l, error, lr)\n",
    "      base_learning_rate = 0.0005 - (0.00003 * (step/100))\n",
    "      learning_rate = tf.train.exponential_decay(\n",
    "                        base_learning_rate,                # Base learning rate.\n",
    "                        batch * BATCH_SIZE,  # Current index into the dataset.\n",
    "                        train_size,          # Decay step.\n",
    "                        0.95,                # Decay rate.\n",
    "                        staircase=True)\n",
    "      errorRate = error_rate(validation_prediction.eval(), validation_labels)[0]\n",
    "      print('Validation error: %.1f%%' % errorRate)\n",
    "      step_list.append(k)\n",
    "      k = k + 100\n",
    "      error_rates.append(errorRate)\n",
    "print(datetime.now()-startTime)"
   ]
  },
  {
   "cell_type": "code",
   "execution_count": 21,
   "metadata": {
    "collapsed": false
   },
   "outputs": [
    {
     "data": {
      "image/png": "[encoded data removed]",
      "text/plain": [
       "<matplotlib.figure.Figure at 0x7fb2838e4250>"
      ]
     },
     "metadata": {},
     "output_type": "display_data"
    }
   ],
   "source": [
    "fig, ax2 = plt.subplots(1)\n",
    "plt.subplots_adjust(wspace=.3)\n",
    "fig.set_size_inches(9, 4)\n",
    "ax2.plot(step_list, error_rates)\n",
    "ax2.set_ylabel(\"Error rates (%)\")\n",
    "ax2.set_xlabel(\"Training steps\")\n",
    "plt.show()"
   ]
  },
  {
   "cell_type": "code",
   "execution_count": 22,
   "metadata": {
    "collapsed": false
   },
   "outputs": [
    {
     "name": "stdout",
     "output_type": "stream",
     "text": [
      "Test error: 0.91%\n"
     ]
    },
    {
     "data": {
      "image/png": "[encoded data removed]",
      "text/plain": [
       "<matplotlib.figure.Figure at 0x7fb2833ad890>"
      ]
     },
     "metadata": {},
     "output_type": "display_data"
    }
   ],
   "source": [
    "test_error, confusions = error_rate(test_prediction.eval(), test_labels)\n",
    "print 'Test error: %.2f%%' % test_error\n",
    "\n",
    "plt.xlabel('Actual')\n",
    "plt.ylabel('Predicted')\n",
    "plt.grid(False)\n",
    "plt.xticks(numpy.arange(NUM_LABELS))\n",
    "plt.yticks(numpy.arange(NUM_LABELS))\n",
    "plt.imshow(confusions, cmap=plt.cm.jet, interpolation='nearest');\n",
    "\n",
    "for i, cas in enumerate(confusions):\n",
    "  for j, count in enumerate(cas):\n",
    "    if count > 0:\n",
    "      xoff = .07 * len(str(count))\n",
    "      plt.text(j-xoff, i+.2, int(count), fontsize=9, color='white')"
   ]
  },
  {
   "cell_type": "code",
   "execution_count": 23,
   "metadata": {
    "collapsed": false
   },
   "outputs": [
    {
     "data": {
      "image/png": "[encoded data removed]",
      "text/plain": [
       "<matplotlib.figure.Figure at 0x7fb283358dd0>"
      ]
     },
     "metadata": {},
     "output_type": "display_data"
    }
   ],
   "source": [
    "plt.xticks(numpy.arange(NUM_LABELS))\n",
    "plt.hist(numpy.argmax(test_labels, 1));"
   ]
  },
  {
   "cell_type": "code",
   "execution_count": null,
   "metadata": {
    "collapsed": true
   },
   "outputs": [],
   "source": []
  }
 ],
 "metadata": {
  "kernelspec": {
   "display_name": "Python 2",
   "language": "python",
   "name": "python2"
  },
  "language_info": {
   "codemirror_mode": {
    "name": "ipython",
    "version": 2
   },
   "file_extension": ".py",
   "mimetype": "text/x-python",
   "name": "python",
   "nbconvert_exporter": "python",
   "pygments_lexer": "ipython2",
   "version": "2.7.6"
  }
 },
 "nbformat": 4,
 "nbformat_minor": 0
}
