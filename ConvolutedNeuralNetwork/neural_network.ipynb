{
 "cells": [
  {
   "cell_type": "markdown",
   "metadata": {},
   "source": [
    "## import tensorflow and other packages"
   ]
  },
  {
   "cell_type": "code",
   "execution_count": 1,
   "metadata": {
    "collapsed": false
   },
   "outputs": [],
   "source": [
    "import tensorflow as tf\n",
    "import numpy as np"
   ]
  },
  {
   "cell_type": "code",
   "execution_count": 2,
   "metadata": {
    "collapsed": false
   },
   "outputs": [
    {
     "name": "stderr",
     "output_type": "stream",
     "text": [
      "/usr/local/lib/python2.7/dist-packages/matplotlib/font_manager.py:273: UserWarning: Matplotlib is building the font cache using fc-list. This may take a moment.\n",
      "  warnings.warn('Matplotlib is building the font cache using fc-list. This may take a moment.')\n"
     ]
    }
   ],
   "source": [
    "import matplotlib\n",
    "import matplotlib.pyplot as plt\n",
    "%matplotlib inline"
   ]
  },
  {
   "cell_type": "markdown",
   "metadata": {},
   "source": [
    "## Define initial input x and output y"
   ]
  },
  {
   "cell_type": "code",
   "execution_count": 3,
   "metadata": {
    "collapsed": false
   },
   "outputs": [
    {
     "name": "stdout",
     "output_type": "stream",
     "text": [
      "[-2.         -1.87755102 -1.75510204 -1.63265306 -1.51020408 -1.3877551\n",
      " -1.26530612 -1.14285714 -1.02040816 -0.89795918 -0.7755102  -0.65306122\n",
      " -0.53061224 -0.40816327 -0.28571429 -0.16326531 -0.04081633  0.08163265\n",
      "  0.20408163  0.32653061  0.44897959  0.57142857  0.69387755  0.81632653\n",
      "  0.93877551  1.06122449  1.18367347  1.30612245  1.42857143  1.55102041\n",
      "  1.67346939  1.79591837  1.91836735  2.04081633  2.16326531  2.28571429\n",
      "  2.40816327  2.53061224  2.65306122  2.7755102   2.89795918  3.02040816\n",
      "  3.14285714  3.26530612  3.3877551   3.51020408  3.63265306  3.75510204\n",
      "  3.87755102  4.        ]\n"
     ]
    },
    {
     "data": {
      "image/png": "[encoded data removed]",
      "text/plain": [
       "<matplotlib.figure.Figure at 0x7ff5cecb2450>"
      ]
     },
     "metadata": {},
     "output_type": "display_data"
    }
   ],
   "source": [
    "num_examples = 50\n",
    "x=np.linspace(-2, 4, num_examples)\n",
    "y=np.linspace(-6, 6, num_examples)\n",
    "print x\n",
    "plt.figure(figsize=(4,4))\n",
    "plt.scatter(x, y)\n",
    "plt.show()"
   ]
  },
  {
   "cell_type": "markdown",
   "metadata": {},
   "source": [
    "## Generate random pertubation "
   ]
  },
  {
   "cell_type": "code",
   "execution_count": 4,
   "metadata": {
    "collapsed": false
   },
   "outputs": [
    {
     "name": "stdout",
     "output_type": "stream",
     "text": [
      "[ 0.68389133  0.96061324  0.31006918  0.44969973  0.58643901  0.54036287\n",
      "  0.63030274  0.22357323  0.43178665  0.00405485  0.96814614  0.74991416\n",
      "  0.29610038  0.96418315  0.34380087  0.07851153  0.89147079  0.76227008\n",
      "  0.33009881  0.48069362  0.10271948  0.96366282  0.84244382  0.55702053\n",
      "  0.87475365  0.93432583  0.30932333  0.30990397  0.72662943  0.41507918\n",
      "  0.72470957  0.43876465  0.34898195  0.59532073  0.72894576  0.9802369\n",
      "  0.50282236  0.45954961  0.75200688  0.14963639  0.39793902  0.79774394\n",
      "  0.42671942  0.60918027  0.51624742  0.93463646  0.98013077  0.64986071\n",
      "  0.80938138  0.06271306]\n"
     ]
    }
   ],
   "source": [
    "randnum=np.random.random([num_examples])\n",
    "print randnum"
   ]
  },
  {
   "cell_type": "code",
   "execution_count": 5,
   "metadata": {
    "collapsed": false
   },
   "outputs": [
    {
     "data": {
      "image/png": "[encoded data removed]",
      "text/plain": [
       "<matplotlib.figure.Figure at 0x7ff5cd0d6e50>"
      ]
     },
     "metadata": {},
     "output_type": "display_data"
    }
   ],
   "source": [
    "x += randnum  #an 1-d array with random numbers\n",
    "y += np.random.random([num_examples])\n",
    "plt.figure(figsize=(4,4))\n",
    "plt.scatter(x, y)\n",
    "plt.show()"
   ]
  },
  {
   "cell_type": "markdown",
   "metadata": {},
   "source": [
    "## Add a constant element to input array"
   ]
  },
  {
   "cell_type": "code",
   "execution_count": null,
   "metadata": {
    "collapsed": false
   },
   "outputs": [],
   "source": [
    "x_with_bias = np.array([(1., a) for a in x]).astype(np.float32)\n",
    "print x_with_bias"
   ]
  },
  {
   "cell_type": "markdown",
   "metadata": {},
   "source": [
    "## Train a neural network with Gradient Descent \n",
    "The objective is minimizing L2 loss"
   ]
  },
  {
   "cell_type": "code",
   "execution_count": null,
   "metadata": {
    "collapsed": false
   },
   "outputs": [],
   "source": [
    "losses = []\n",
    "training_steps = 50\n",
    "learning_rate = 0.002\n",
    "\n",
    "with tf.Session() as sess:\n",
    "  # Set up all the tensors, variables, and operations.\n",
    "  input = tf.constant(x_with_bias)\n",
    "  target = tf.constant(np.transpose([y]).astype(np.float32))\n",
    "  weights = tf.Variable(tf.random_normal([2, 1], 0, 0.1))\n",
    "  \n",
    "  tf.initialize_all_variables().run()\n",
    "                      \n",
    "  yhat = tf.matmul(input, weights)\n",
    "  yerror = tf.sub(yhat, target)\n",
    "  loss = tf.nn.l2_loss(yerror)\n",
    "  \n",
    "  update_weights = tf.train.GradientDescentOptimizer(learning_rate).minimize(loss)\n",
    "  \n",
    "  for _ in range(training_steps):\n",
    "    update_weights.run()\n",
    "    losses.append(loss.eval())\n",
    "    #print _  #It takes on value from 0 to 49\n",
    "    #print losses  #this shows losses array keep increasing in size: [18] , [18, 13],...\n",
    "\n",
    "  # Training is done, get the final values for the graphs\n",
    "  betas = weights.eval()\n",
    "  yhat = yhat.eval()\n"
   ]
  },
  {
   "cell_type": "markdown",
   "metadata": {},
   "source": [
    "## Show the actual and predicted data points"
   ]
  },
  {
   "cell_type": "code",
   "execution_count": null,
   "metadata": {
    "collapsed": false
   },
   "outputs": [],
   "source": [
    "plt.figure(figsize=(4,4))\n",
    "\n",
    "plt.scatter(x, y, alpha=.9)  #plot original x and y\n",
    "plt.scatter(x, np.transpose(yhat)[0], c=\"g\", alpha=.6) #plot x and yhat\n",
    "\n",
    "x_range = (-4, 6)\n",
    "plt.plot(x_range, [betas[0] + a * betas[1] for a in x_range], \"g\", alpha=0.6)\n",
    "\n",
    "plt.show()"
   ]
  },
  {
   "cell_type": "markdown",
   "metadata": {},
   "source": [
    "## Plot the prediction error over time"
   ]
  },
  {
   "cell_type": "code",
   "execution_count": null,
   "metadata": {
    "collapsed": false
   },
   "outputs": [],
   "source": [
    "# Show the loss over time.\n",
    "plt.figure(figsize=(4,4))\n",
    "\n",
    "plt.plot(range(0, training_steps), losses)\n",
    "#plt.set_ylabel(\"Loss\")\n",
    "#plt.set_xlabel(\"Training steps\")\n",
    "\n",
    "plt.show()"
   ]
  },
  {
   "cell_type": "markdown",
   "metadata": {},
   "source": [
    "## Exercise: Build a neural network to predict room occupancy"
   ]
  }
 ],
 "metadata": {
  "kernelspec": {
   "display_name": "Python 2",
   "language": "python",
   "name": "python2"
  },
  "language_info": {
   "codemirror_mode": {
    "name": "ipython",
    "version": 2
   },
   "file_extension": ".py",
   "mimetype": "text/x-python",
   "name": "python",
   "nbconvert_exporter": "python",
   "pygments_lexer": "ipython2",
   "version": "2.7.6"
  }
 },
 "nbformat": 4,
 "nbformat_minor": 0
}
