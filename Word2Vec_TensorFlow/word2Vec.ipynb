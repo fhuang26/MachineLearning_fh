{
 "cells": [
  {
   "cell_type": "markdown",
   "metadata": {},
   "source": [
    "## Import TensforFlow and Numpy, make sure the package is there"
   ]
  },
  {
   "cell_type": "code",
   "execution_count": null,
   "metadata": {
    "collapsed": true
   },
   "outputs": [],
   "source": [
    "import numpy as np\n",
    "import tensorflow as tf"
   ]
  },
  {
   "cell_type": "markdown",
   "metadata": {},
   "source": [
    "# Read the text into a list of strings, using tensorflow"
   ]
  },
  {
   "cell_type": "code",
   "execution_count": null,
   "metadata": {
    "collapsed": false
   },
   "outputs": [],
   "source": [
    "import zipfile as zf\n",
    "\n",
    "#This function return a list of words\n",
    "def read_data(filename):\n",
    "  with zf.ZipFile(filename) as f:\n",
    "    raw=f.read(f.namelist()[0])\n",
    "    data = tf.compat.as_str(raw).split()    \n",
    "        #tf.compat is not in online document\n",
    "  return data\n",
    "\n",
    "word_list = read_data('text/text8.zip')\n",
    "#data size is the total number of words in the file\n",
    "print 'Data size: ', len(word_list)"
   ]
  },
  {
   "cell_type": "markdown",
   "metadata": {
    "collapsed": false
   },
   "source": [
    "# Build dataset"
   ]
  },
  {
   "cell_type": "code",
   "execution_count": null,
   "metadata": {
    "collapsed": false,
    "scrolled": true
   },
   "outputs": [],
   "source": [
    "import collections\n",
    "\n",
    "#This is our universe, we don't study any word outside this vocabulary \n",
    "vocabulary_size = 50000  \n",
    "\n",
    "#Replace every word by its index, this is our dataset; replace rare words with token \"UNK\"\n",
    "def build_dataset(words):\n",
    "  #initialize an array with word and its count, with the first word as 'UNK'\n",
    "  word_Count = [['UNK', -1]]   \n",
    "  #Find common words, and add them to our vocabulary array\n",
    "  unique_words=collections.Counter(word_list)\n",
    "  print \"unique words: \", len(unique_words)\n",
    "  # We are using a function from \"Collection\", most_common  \n",
    "  common_words=unique_words.most_common(vocabulary_size-1)  \n",
    "          #make sure this is \"vocabulary_size-1\" as we already have 1 word in \n",
    "  word_Count.extend(common_words)\n",
    "  \"\"\"After the above operation, word_Count is a 2-d array with 50,001 words and their count\"\"\"\n",
    "\n",
    "  #Initialize an empty hashtable\n",
    "  dictionary = dict()\n",
    "  for word, _ in word_Count:\n",
    "    dictionary[word] = len(dictionary)  #current size, thus it is an index\n",
    "  \"\"\"After the above operation, dictionary is a hashtable with 50,001 words and their index, ordered by Count\"\"\"\n",
    "\n",
    "  #Create our dataset, where every word is replaced by its index\n",
    "  data = list()\n",
    "  unk_count = 0\n",
    "  for word in word_list:\n",
    "    if word in dictionary:\n",
    "      index = dictionary[word]\n",
    "    else:\n",
    "      index = 0  # dictionary['UNK']\n",
    "      unk_count += 1\n",
    "    data.append(index)\n",
    "    \n",
    "  #Update the count for UNK, any word that is not common is considered as UNK\n",
    "  word_Count[0][1] = unk_count  #this is a side-product\n",
    "\n",
    "  reverse_dictionary = dict(zip(dictionary.values(), dictionary.keys())) #zip just make the hashtable more compact\n",
    "    \n",
    "  return data, word_Count, dictionary, reverse_dictionary\n",
    "\n",
    "#It takes about 4 seconds to finish\n",
    "data, word_Count, dictionary, reverse_dictionary = build_dataset(word_list)\n",
    "del word_list  # to reduce memory.\n",
    "\n",
    "print('top 10 common words (+UNK)', word_Count[:10])   #the top 10 common words\n",
    "print ('data= ', data[:10])\n",
    "print('Sample data',  [reverse_dictionary[i] for i in data[:10]])"
   ]
  },
  {
   "cell_type": "markdown",
   "metadata": {},
   "source": [
    "# Generate a training batch for the skip-gram model.\n",
    "# Reference paper:"
   ]
  },
  {
   "cell_type": "code",
   "execution_count": null,
   "metadata": {
    "collapsed": false
   },
   "outputs": [],
   "source": [
    "import random\n",
    "\n",
    "data_index = 0\n",
    "\n",
    "batch_size = 128  #the number of words we process each time \n",
    "embedding_size = 128  # Dimension of the embedding vector.\n",
    "num_skips = 2      # How many times to reuse an input to generate a label.\n",
    "skip_window = 1      # Number of words to consider left and right.\n",
    "\n",
    "#Given batch size, generate labeled data from original sequence\n",
    "#for every word, find its label, which is within the skip-window\n",
    "def generate_batch(batch_size, num_skips, skip_window):\n",
    "  global data_index\n",
    "\n",
    "  assert batch_size % num_skips == 0  #if this condition does not hold, the system will issue error\n",
    "  assert num_skips <= 2 * skip_window\n",
    "\n",
    "  batch = np.ndarray(shape=(batch_size), dtype=np.int32)\n",
    "  labels = np.ndarray(shape=(batch_size, 1), dtype=np.int32)\n",
    "\n",
    "  \"\"\"Read data if size span into buffer \"\"\" \n",
    "  ## Span is the total number of words, before + after+ current word\n",
    "  span = 2 * skip_window + 1   #span=3\n",
    "  buffer = collections.deque(maxlen=span)\n",
    "  for _ in range(span):\n",
    "    buffer.append(data[data_index])\n",
    "    data_index = data_index + 1\n",
    "  \n",
    "  \"\"\" The actual number of operation is batch_size // num_skips, where \"//\" is floor division, removing decimal numbers \"\"\" \n",
    "  for i in range(batch_size // num_skips):\n",
    "    # start with the center word, \n",
    "    target = skip_window  \n",
    "    \n",
    "    # this is a list that records what we have processed\n",
    "    targets_to_avoid = [ skip_window ]   \n",
    "    \n",
    "    for j in range(num_skips):\n",
    "      while target in targets_to_avoid:\n",
    "        target = random.randint(0, span - 1)\n",
    "      targets_to_avoid.append(target)\n",
    "      batch[i * num_skips + j] = buffer[skip_window]\n",
    "      labels[i * num_skips + j, 0] = buffer[target]\n",
    "    buffer.append(data[data_index])\n",
    "    data_index = data_index + 1\n",
    "    \n",
    "  return batch, labels\n",
    "\n",
    "#Some sample output\n",
    "batch, labels = generate_batch(batch_size=10, num_skips=2, skip_window=1)\n",
    "print batch\n",
    "print labels\n",
    "for i in range(len(batch)):\n",
    "  print(reverse_dictionary[batch[i]], '->', reverse_dictionary[labels[i, 0]])\n",
    "print \"data index=\",data_index"
   ]
  },
  {
   "cell_type": "markdown",
   "metadata": {},
   "source": [
    "# Build and train a skip-gram model."
   ]
  },
  {
   "cell_type": "code",
   "execution_count": null,
   "metadata": {
    "collapsed": false
   },
   "outputs": [],
   "source": [
    "#Some sample output\n",
    "batch, labels = generate_batch(batch_size=10, num_skips=2, skip_window=1)\n",
    "print batch\n",
    "print labels\n",
    "for i in range(len(batch)):\n",
    "  print(reverse_dictionary[batch[i]], '->', reverse_dictionary[labels[i, 0]])\n",
    "print \"data index=\",data_index"
   ]
  },
  {
   "cell_type": "code",
   "execution_count": null,
   "metadata": {
    "collapsed": false
   },
   "outputs": [],
   "source": [
    "import math\n",
    "\n",
    "# We pick a random validation set to sample nearest neighbors. Here we limit the validation samples to frequent words .\n",
    "valid_size = 16     # Random set of words to evaluate similarity on.\n",
    "valid_window = 100  # Only pick dev samples in the head of the distribution.\n",
    "valid_examples = np.random.choice(valid_window, valid_size, replace=False)\n",
    "\n",
    "num_sampled = 64    # Number of negative examples to sample.\n",
    "\n",
    "graph = tf.Graph()\n",
    "with graph.as_default():\n",
    "  train_inputs = tf.placeholder(tf.int32, shape=[batch_size])\n",
    "     #a list if integers that are indexes for words\n",
    "  train_labels = tf.placeholder(tf.int32, shape=[batch_size, 1])\n",
    "     #a list if integers that are indexes for words\n",
    "  valid_dataset = tf.constant(valid_examples, dtype=tf.int32)\n",
    "\n",
    "  # Ops and variables pinned to the CPU because of missing GPU implementation\n",
    "  with tf.device('/cpu:0'):\n",
    "    #word vectors are all intialized as numbers between -1 and 1 \n",
    "    wordsE = tf.Variable(tf.random_uniform([vocabulary_size, embedding_size], -1.0, 1.0))\n",
    "    \n",
    "    #inputE is a smaller size list than all wordsE, \n",
    "    inputE = tf.nn.embedding_lookup(wordsE, train_inputs)\n",
    "    #The resulting dimension is [batch_size, embedding_size]\n",
    "    \n",
    "    # Construct the variables\n",
    "    #The weights is initialized from a normal distribution, with mean 0 and standard deviation 1/128^2, almost 0\n",
    "    initial_weights=tf.truncated_normal([vocabulary_size, embedding_size], stddev=1.0 / math.sqrt(embedding_size))\n",
    "    weights = tf.Variable(initial_weights)\n",
    "    biases = tf.Variable(tf.zeros([vocabulary_size]))\n",
    "\n",
    "  loss = tf.reduce_mean(\n",
    "              tf.nn.sampled_softmax_loss(weights, biases, inputE, train_labels, num_sampled, vocabulary_size))\n",
    "  # Construct the SGD optimizer using a learning rate of 1.0.\n",
    "  optimizer = tf.train.GradientDescentOptimizer(1.0).minimize(loss)\n",
    "\n",
    "  # Compute the cosine similarity between minibatch examples and all embeddings.\n",
    "  norm = tf.sqrt(tf.reduce_sum(tf.square(wordsE), 1, keep_dims=True))\n",
    "  normalized_wordsE = wordsE / norm\n",
    "    \n",
    "  #calculate pairwise similarity score for every word in valid set, and all the words in vocabulary\n",
    "  validE = tf.nn.embedding_lookup(normalized_wordsE, valid_dataset)\n",
    "  similarity = tf.matmul(validE, normalized_wordsE, transpose_b=True)\n",
    "\n",
    "  # Add variable initializer.\n",
    "  init = tf.initialize_all_variables()\n"
   ]
  },
  {
   "cell_type": "code",
   "execution_count": null,
   "metadata": {
    "collapsed": false
   },
   "outputs": [],
   "source": [
    "with tf.Session() as sess:\n",
    "    allwords =tf.Variable(tf.random_uniform([5, 2], -1.0, 1.0)) \n",
    "    #Variable has to initialized before running\n",
    "    #sess.run(allwords.initializer)\n",
    "    tf.initialize_all_variables().run() #this is more general\n",
    "    print allwords.eval()\n",
    "    batch=[1,3,4]\n",
    "    bwords=tf.nn.embedding_lookup(allwords, batch)\n",
    "    print bwords.eval()"
   ]
  },
  {
   "cell_type": "markdown",
   "metadata": {},
   "source": [
    "# Begin training."
   ]
  },
  {
   "cell_type": "code",
   "execution_count": null,
   "metadata": {
    "collapsed": false
   },
   "outputs": [],
   "source": [
    "print normalized_wordsE"
   ]
  },
  {
   "cell_type": "code",
   "execution_count": null,
   "metadata": {
    "collapsed": false
   },
   "outputs": [],
   "source": [
    "from six.moves import xrange   \n",
    "\n",
    "num_steps = 100001\n",
    "\n",
    "with tf.Session(graph=graph) as session:\n",
    "  init.run()  #initialize the graph\n",
    "  print(\"Initialized\")\n",
    "  #print normalized_wordsE.eval()\n",
    "\n",
    "  data_index=0 #Reinitialize, important to do this\n",
    "  average_loss = 0\n",
    "  for step in xrange(num_steps):\n",
    "    binputs, blabels = generate_batch(batch_size, num_skips, skip_window)\n",
    "    # We perform one update step by evaluating the optimizer op (including it\n",
    "    # in the list of returned values for session.run()\n",
    "    assignment={train_inputs : binputs, train_labels : blabels}\n",
    "    _, loss_val = session.run([optimizer, loss], feed_dict = assignment )\n",
    "    average_loss += loss_val\n",
    "\n",
    "    if step % 2000 == 0:\n",
    "      # The average loss is an estimate of the loss over the last 2000 batches.\n",
    "      if step > 0:\n",
    "        average_loss /= 2000\n",
    "      print(\"Average loss at step \", step, \": \", average_loss)\n",
    "      average_loss = 0\n",
    "    \n",
    "    \"\"\"\n",
    "    if step == 2000:\n",
    "      print binputs  #a list of indexes\n",
    "      #print blabels\n",
    "      print wordsE.eval()  \n",
    "      print normalized_wordsE.eval()\n",
    "      print inputE\n",
    "      #print inputE.eval()\n",
    "    \"\"\"\n",
    "    \n",
    "    # Note that this is expensive, so only doing it every 10,000\n",
    "    if step % 10000 == 0:  \n",
    "      sim = similarity.eval()  #get pairwise similarity for every word\n",
    "      for i in range(5):\n",
    "        valid_word = reverse_dictionary[valid_examples[i]]\n",
    "        top_k = 8 # number of nearest neighbors\n",
    "        nearest = (-sim[i, :]).argsort()[1:top_k+1]\n",
    "        log_str = \"Nearest to %s:\" % valid_word\n",
    "        for k in xrange(top_k):\n",
    "          close_word = reverse_dictionary[nearest[k]]\n",
    "          log_str = \"%s %s,\" % (log_str, close_word)\n",
    "        print(log_str)\n",
    "        \n",
    "  final_wordsE = normalized_wordsE.eval()\n"
   ]
  },
  {
   "cell_type": "markdown",
   "metadata": {},
   "source": [
    " # Visualize the results"
   ]
  },
  {
   "cell_type": "code",
   "execution_count": null,
   "metadata": {
    "collapsed": false
   },
   "outputs": [],
   "source": [
    "print(final_wordsE)"
   ]
  },
  {
   "cell_type": "code",
   "execution_count": null,
   "metadata": {
    "collapsed": false
   },
   "outputs": [],
   "source": [
    "import matplotlib.pyplot as plt\n",
    "%matplotlib inline\n",
    "\n",
    "import sklearn\n",
    "from sklearn.manifold import TSNE"
   ]
  },
  {
   "cell_type": "code",
   "execution_count": null,
   "metadata": {
    "collapsed": false
   },
   "outputs": [],
   "source": [
    "def plot_with_labels(low_dim_embs, labels, filename='tsne.png'):\n",
    "  assert low_dim_embs.shape[0] >= len(labels), \"More labels than embeddings\"\n",
    "  plt.figure(figsize=(18, 18))  #in inches\n",
    "  for i, label in enumerate(labels):\n",
    "    x, y = low_dim_embs[i,:]\n",
    "    plt.scatter(x, y)\n",
    "    plt.annotate(label,\n",
    "                 xy=(x, y),\n",
    "                 xytext=(5, 2),\n",
    "                 textcoords='offset points',\n",
    "                 ha='right',\n",
    "                 va='bottom')\n",
    "  plt.savefig(filename)\n",
    "\n",
    "tsne = TSNE(perplexity=30, n_components=2, init='pca', n_iter=5000)\n",
    "plot_only = 500\n",
    "low_dim_embs = tsne.fit_transform(final_wordsE[:plot_only,:])\n",
    "labels = [reverse_dictionary[i] for i in xrange(plot_only)]\n",
    "plot_with_labels(low_dim_embs, labels)\n"
   ]
  },
  {
   "cell_type": "code",
   "execution_count": null,
   "metadata": {
    "collapsed": true
   },
   "outputs": [],
   "source": []
  }
 ],
 "metadata": {
  "kernelspec": {
   "display_name": "Python 2",
   "language": "python",
   "name": "python2"
  },
  "language_info": {
   "codemirror_mode": {
    "name": "ipython",
    "version": 2
   },
   "file_extension": ".py",
   "mimetype": "text/x-python",
   "name": "python",
   "nbconvert_exporter": "python",
   "pygments_lexer": "ipython2",
   "version": "2.7.6"
  }
 },
 "nbformat": 4,
 "nbformat_minor": 0
}
